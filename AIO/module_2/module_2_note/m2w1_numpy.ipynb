{
 "cells": [
  {
   "cell_type": "markdown",
   "id": "3ceb01e1",
   "metadata": {},
   "source": [
    "# Numpy"
   ]
  },
  {
   "cell_type": "markdown",
   "id": "4861aaea",
   "metadata": {},
   "source": [
    "## 1. List vs NumPy Array"
   ]
  },
  {
   "cell_type": "code",
   "execution_count": 1,
   "id": "2fde5763",
   "metadata": {},
   "outputs": [],
   "source": [
    "import numpy as np"
   ]
  },
  {
   "cell_type": "code",
   "execution_count": 2,
   "id": "33c324d7",
   "metadata": {},
   "outputs": [
    {
     "name": "stdout",
     "output_type": "stream",
     "text": [
      "[1, 2, 3, 4, 5]\n"
     ]
    },
    {
     "data": {
      "text/plain": [
       "array([1, 2, 3, 4, 5])"
      ]
     },
     "execution_count": 2,
     "metadata": {},
     "output_type": "execute_result"
    }
   ],
   "source": [
    "# Add a list of elements\n",
    "a = [1, 2, 3]\n",
    "b = [4, 5]\n",
    "a.extend(b)\n",
    "print(a)\n",
    "\n",
    "a = np.array([1, 2, 3])\n",
    "b = np.array([4, 5])\n",
    "np.append(a, b)"
   ]
  },
  {
   "cell_type": "code",
   "execution_count": 3,
   "id": "d62ef517",
   "metadata": {},
   "outputs": [
    {
     "name": "stdout",
     "output_type": "stream",
     "text": [
      "[1, 3]\n"
     ]
    },
    {
     "data": {
      "text/plain": [
       "array([1, 3])"
      ]
     },
     "execution_count": 3,
     "metadata": {},
     "output_type": "execute_result"
    }
   ],
   "source": [
    "# Delete element based on index\n",
    "a = [1, 2, 3]\n",
    "a.pop(1)\n",
    "print(a)\n",
    "\n",
    "l = np.array([1, 2, 3])\n",
    "np.delete(l, 1)"
   ]
  },
  {
   "cell_type": "code",
   "execution_count": 4,
   "id": "a6465713",
   "metadata": {},
   "outputs": [
    {
     "name": "stdout",
     "output_type": "stream",
     "text": [
      "[1, 2]\n"
     ]
    },
    {
     "data": {
      "text/plain": [
       "array([1, 2])"
      ]
     },
     "execution_count": 4,
     "metadata": {},
     "output_type": "execute_result"
    }
   ],
   "source": [
    "# Delete element based on value\n",
    "a = [1, 2, 9]\n",
    "a.remove(9)\n",
    "print(a)\n",
    "\n",
    "l = np.array([1, 2, 9])\n",
    "np.delete(l, np.where(l == 9)[0])"
   ]
  },
  {
   "cell_type": "code",
   "execution_count": 5,
   "id": "2e3645e8",
   "metadata": {},
   "outputs": [
    {
     "name": "stdout",
     "output_type": "stream",
     "text": [
      "0\n",
      "[0 3 4]\n",
      "0\n",
      "3\n",
      "4\n"
     ]
    }
   ],
   "source": [
    "# Index\n",
    "arr = [9, 8, 7, 9]\n",
    "print(arr.index(9))\n",
    "\n",
    "arr2 = np.array([9, 8, 7, 9, 9])\n",
    "print(np.where(arr2 == 9)[0])\n",
    "print(np.where(arr2 == 9)[0][0])\n",
    "print(np.where(arr2 == 9)[0][1])\n",
    "print(np.where(arr2 == 9)[0][2])\n"
   ]
  },
  {
   "cell_type": "code",
   "execution_count": 6,
   "id": "c4fbca7b",
   "metadata": {},
   "outputs": [
    {
     "name": "stdout",
     "output_type": "stream",
     "text": [
      "1 10\n",
      "2 9\n",
      "3 8\n",
      "4 7\n",
      "5 6\n",
      "[[ 1 10]\n",
      " [ 2  9]\n",
      " [ 3  8]\n",
      " [ 4  7]\n",
      " [ 5  6]]\n",
      "[ 1 10]\n",
      "[2 9]\n"
     ]
    }
   ],
   "source": [
    "# Zip-like operation\n",
    "\n",
    "arr1 = np.array([1, 2, 3, 4, 5])\n",
    "arr2 = np.array([10, 9, 8, 7, 6])\n",
    "\n",
    "for i, j in np.dstack((arr1, arr2))[0]:\n",
    "    print(i, j)\n",
    "\n",
    "\n",
    "print(np.dstack((arr1, arr2))[0]) \n",
    "print(np.dstack((arr1, arr2))[0][0])    # [1 10]\n",
    "print(np.dstack((arr1, arr2))[0][1])    # [2 9]\n",
    "\n"
   ]
  },
  {
   "cell_type": "code",
   "execution_count": 7,
   "id": "9c4ea8ce",
   "metadata": {},
   "outputs": [
    {
     "name": "stdout",
     "output_type": "stream",
     "text": [
      "(0,) 1\n",
      "(1,) 2\n",
      "(2,) 3\n",
      "(3,) 4\n",
      "(4,) 5\n"
     ]
    }
   ],
   "source": [
    "# Enumerate\n",
    "arr = np.array([1, 2, 3, 4, 5])\n",
    "\n",
    "for i, val in np.ndenumerate(arr):\n",
    "    print(i, val)"
   ]
  },
  {
   "cell_type": "markdown",
   "id": "a71acbdc",
   "metadata": {},
   "source": [
    "## 2. Advanced techniques"
   ]
  },
  {
   "cell_type": "code",
   "execution_count": 8,
   "id": "c564b0e9",
   "metadata": {},
   "outputs": [
    {
     "name": "stdout",
     "output_type": "stream",
     "text": [
      "[7 8]\n",
      "[7 8]\n",
      "[5 8]\n",
      "[5 6 7 8]\n",
      "[5 7 8]\n",
      "[[1 2 4 5 7 8]]\n",
      "[[1]\n",
      " [2]\n",
      " [4]\n",
      " [5]\n",
      " [7]\n",
      " [8]]\n",
      "[[1 2 4]\n",
      " [5 7 8]]\n",
      "[[1 2]\n",
      " [3 4]\n",
      " [5 6]\n",
      " [1 2]\n",
      " [3 4]\n",
      " [5 6]]\n",
      "[[1 2]\n",
      " [3 4]\n",
      " [5 6]\n",
      " [1 2]\n",
      " [3 4]\n",
      " [5 6]]\n",
      "[[1 2 1 2]\n",
      " [3 4 3 4]\n",
      " [5 6 5 6]]\n"
     ]
    }
   ],
   "source": [
    "# Int array indexing\n",
    "\n",
    "arr = np.array([5, 6, 7, 8])\n",
    "print(arr[2:4])     # [7 8]\n",
    "print(arr[[2, 3]])  # [7 8]\n",
    "print(arr[[0, 3]])  # [5 8]\n",
    "\n",
    "# Boolean array indexing\n",
    "\n",
    "print(arr[arr > 3])     # [5 6 7 8]\n",
    "print(arr[arr != 6])    # [5 7 8]  \n",
    "\n",
    "# Array manipulation\n",
    "\n",
    "arr2 = np.array([\n",
    "    [1, 2],\n",
    "    [4, 5],\n",
    "    [7, 8]\n",
    "])\n",
    "\n",
    "print(arr2.reshape(1, 6))   # [[1 2 4 5 7 8]]\n",
    "print(arr2.reshape(6, 1))   # [[1], [2], [4], [5], [7], [8]]\n",
    "\n",
    "print(arr2.reshape(2, 3))   # [[1 2 4], [5 7 8]]\n",
    "\n",
    "# Concatenation\n",
    "\n",
    "arr3 = np.array([[1, 2], [3, 4], [5, 6]])\n",
    "arr4 = np.array([[1, 2], [3, 4], [5, 6]])\n",
    "\n",
    "print(np.concatenate((arr3, arr4))) # default axis = 0\n",
    "print(np.concatenate((arr3, arr4), axis=0))\n",
    "# [[1 2]\n",
    "#  [3 4]\n",
    "#  [5 6]\n",
    "#  [1 2]\n",
    "#  [3 4]\n",
    "#  [5 6]]\n",
    "print(np.concatenate((arr3, arr4), axis=1))\n",
    "# [[1 2 1 2]\n",
    "#  [3 4 3 4]\n",
    "#  [5 6 5 6]]"
   ]
  },
  {
   "cell_type": "code",
   "execution_count": 9,
   "id": "58260757",
   "metadata": {},
   "outputs": [
    {
     "name": "stdout",
     "output_type": "stream",
     "text": [
      "[[2 3]\n",
      " [4 5]]\n"
     ]
    }
   ],
   "source": [
    "#Broadcasting and vectorization\n",
    "a = np.array([[1, 2], [3, 4]])\n",
    "b = np.array([1, 1])\n",
    "\n",
    "print(a + b)"
   ]
  },
  {
   "cell_type": "code",
   "execution_count": 10,
   "id": "f794c4f8",
   "metadata": {},
   "outputs": [
    {
     "name": "stdout",
     "output_type": "stream",
     "text": [
      "[[1 2 3 4]\n",
      " [5 6 7 8]]\n",
      "[[1 3 5 7]\n",
      " [2 4 6 8]]\n",
      "[[1 2]\n",
      " [3 4]\n",
      " [5 6]\n",
      " [7 8]]\n",
      "[[1 5]\n",
      " [2 6]\n",
      " [3 7]\n",
      " [4 8]]\n"
     ]
    }
   ],
   "source": [
    "# Reshape\n",
    "arr = np.arange(1, 9)\n",
    "print(arr.reshape((2, 4), order='C'))\n",
    "print(arr.reshape((2, 4), order='F'))\n",
    "print(arr.reshape((4, 2), order='C'))\n",
    "print(arr.reshape((4, 2), order='F'))"
   ]
  }
 ],
 "metadata": {
  "kernelspec": {
   "display_name": "ds-ai-env",
   "language": "python",
   "name": "python3"
  },
  "language_info": {
   "codemirror_mode": {
    "name": "ipython",
    "version": 3
   },
   "file_extension": ".py",
   "mimetype": "text/x-python",
   "name": "python",
   "nbconvert_exporter": "python",
   "pygments_lexer": "ipython3",
   "version": "3.11.13"
  }
 },
 "nbformat": 4,
 "nbformat_minor": 5
}
