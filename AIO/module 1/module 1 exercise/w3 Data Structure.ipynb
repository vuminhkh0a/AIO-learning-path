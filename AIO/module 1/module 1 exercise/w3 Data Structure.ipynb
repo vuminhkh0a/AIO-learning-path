{
 "cells": [
  {
   "cell_type": "markdown",
   "id": "2709b58a",
   "metadata": {},
   "source": [
    "# Data Structure (Queue, Stack and Tree)\n",
    "## 1. Tree node"
   ]
  },
  {
   "cell_type": "code",
   "execution_count": 2,
   "id": "0c19f9f0",
   "metadata": {},
   "outputs": [],
   "source": [
    "class TreeNode:\n",
    "    def __init__(self, data):\n",
    "        self.data = data\n",
    "        self.children = []\n",
    "        self.parent = None\n",
    "    \n",
    "    def add_child(self, child):\n",
    "        child.parent = self\n",
    "        self.children.append(child)\n",
    "\n",
    "    def get_level(self):\n",
    "        level = 0\n",
    "        p = self.parent\n",
    "\n",
    "        while p:\n",
    "            level += 1\n",
    "            p = p.parent\n",
    "        \n",
    "        return level\n",
    "\n",
    "    def print_tree(self):\n",
    "        preflix = '   ' * self.get_level() + '|__' if self.parent != None else '  '\n",
    "        print(preflix + self.data)\n",
    "\n",
    "        if self.children:\n",
    "            for child in self.children:\n",
    "                child.print_tree()\n",
    "        "
   ]
  },
  {
   "cell_type": "code",
   "execution_count": 3,
   "id": "d159e699",
   "metadata": {},
   "outputs": [],
   "source": [
    "def creet_tree():\n",
    "    a_node = TreeNode('A')\n",
    "    b_node = TreeNode('B')\n",
    "    c_node = TreeNode('C')\n",
    "    d_node = TreeNode('D')\n",
    "    e_node = TreeNode('E')\n",
    "    f_node = TreeNode('F')\n",
    "\n",
    "    a_node.add_child(b_node)\n",
    "    a_node.add_child(c_node)\n",
    "\n",
    "    b_node.add_child(d_node)\n",
    "    b_node.add_child(e_node)\n",
    "    c_node.add_child(f_node)\n",
    "\n",
    "    return a_node"
   ]
  },
  {
   "cell_type": "code",
   "execution_count": 4,
   "id": "9936593c",
   "metadata": {},
   "outputs": [
    {
     "name": "stdout",
     "output_type": "stream",
     "text": [
      "  A\n",
      "   |__B\n",
      "      |__D\n",
      "      |__E\n",
      "   |__C\n",
      "      |__F\n"
     ]
    }
   ],
   "source": [
    "tree = creet_tree()\n",
    "tree.print_tree()"
   ]
  },
  {
   "cell_type": "markdown",
   "id": "c5abdda3",
   "metadata": {},
   "source": [
    "## 1. Stack data structure"
   ]
  },
  {
   "cell_type": "markdown",
   "id": "26bdb16c",
   "metadata": {},
   "source": [
    "### Example"
   ]
  },
  {
   "cell_type": "code",
   "execution_count": 12,
   "id": "1619efc9",
   "metadata": {},
   "outputs": [],
   "source": [
    "class MyStack:\n",
    "    def __init__(self, capacity):\n",
    "        self.__capacity = capacity\n",
    "        self.__stack = []\n",
    "    \n",
    "    # def is_full(self):\n",
    "    #     return len(self.__stack) == self.__capacity\n",
    "\n",
    "    def push(self, value):\n",
    "        self.__stack.append(value)\n",
    "        assert len(self.__stack) <= self.__capacity, \"No more capacity\"\n",
    "    \n",
    "    def pop(self):\n",
    "        assert len(self.__stack) > 0, \"No items left to pop\"\n",
    "        self.__stack.pop()\n",
    "        \n",
    "    def print_stack(self):\n",
    "        print(self.__stack)"
   ]
  },
  {
   "cell_type": "code",
   "execution_count": 15,
   "id": "ee4c2110",
   "metadata": {},
   "outputs": [
    {
     "name": "stdout",
     "output_type": "stream",
     "text": [
      "[2, 9, 3, 6]\n"
     ]
    }
   ],
   "source": [
    "stack = MyStack(5)\n",
    "\n",
    "stack.push(2)\n",
    "stack.push(9)\n",
    "stack.push(3)\n",
    "stack.push(6)\n",
    "stack.push(7)\n",
    "stack.pop()\n",
    "\n",
    "stack.print_stack()\n",
    "\n",
    "stack.pop()\n",
    "stack.pop()\n",
    "stack.pop()\n",
    "stack.pop()\n"
   ]
  },
  {
   "cell_type": "markdown",
   "id": "cc641bcb",
   "metadata": {},
   "source": [
    "### Depth first search (DFS)"
   ]
  },
  {
   "cell_type": "code",
   "execution_count": 18,
   "id": "505416d9",
   "metadata": {},
   "outputs": [],
   "source": [
    "class Stack:\n",
    "    def __init__(self):\n",
    "        self.items = []\n",
    "    \n",
    "    def push(self, item):\n",
    "        self.items.append(item)\n",
    "    \n",
    "    def pop(self):\n",
    "        assert len(self.items) != 0, \"No item to pop\"\n",
    "        item = self.items.pop()\n",
    "        return item\n",
    "\n",
    "    def peek(self):\n",
    "        assert len(self.items) != 0, \"No item to peek\"\n",
    "        return self.items[-1]\n",
    "    \n",
    "    def is_empty(self):\n",
    "        return len(self.items) == 0\n",
    "    \n",
    "    def size(self):\n",
    "        return len(self.items)\n",
    "\n",
    "class TreeNode:\n",
    "    def __init__(self, key):\n",
    "        self.left = None\n",
    "        self.right = None\n",
    "        self.val = key\n",
    "    \n",
    "class BinaryTree:\n",
    "    def __init__(self, root=None):\n",
    "        self.root = root\n",
    "    \n",
    "    def dfs(self):\n",
    "        if not self.root:\n",
    "            print(\"Tree is empty\")\n",
    "            return\n",
    "        \n",
    "        stack = Stack()\n",
    "        stack.push(self.root)\n",
    "\n",
    "        print(\"DFS\")\n",
    "\n",
    "        while not stack.is_empty():\n",
    "            current = stack.pop()\n",
    "            print('Visited ', current.val)\n",
    "\n",
    "            if current.right:\n",
    "                stack.push(current.right)\n",
    "            if current.left:\n",
    "                stack.push(current.left)\n",
    "                "
   ]
  },
  {
   "cell_type": "code",
   "execution_count": 19,
   "id": "9b248da2",
   "metadata": {},
   "outputs": [
    {
     "name": "stdout",
     "output_type": "stream",
     "text": [
      "DFS\n",
      "Visited  1\n",
      "Visited  2\n",
      "Visited  4\n",
      "Visited  5\n",
      "Visited  3\n",
      "Visited  6\n",
      "Visited  7\n"
     ]
    }
   ],
   "source": [
    "root = TreeNode(1)\n",
    "root.left = TreeNode(2)\n",
    "root.right = TreeNode(3)\n",
    "root.left.left = TreeNode(4)\n",
    "root.left.right = TreeNode(5)\n",
    "root.right.left = TreeNode(6)\n",
    "root.right.right = TreeNode(7)\n",
    "\n",
    "binary_tree = BinaryTree(root)\n",
    "binary_tree.dfs()"
   ]
  },
  {
   "cell_type": "markdown",
   "id": "0fb17e9a",
   "metadata": {},
   "source": [
    "## 2. Queue data structure"
   ]
  },
  {
   "cell_type": "markdown",
   "id": "2d09860b",
   "metadata": {},
   "source": [
    "### Example"
   ]
  },
  {
   "cell_type": "code",
   "execution_count": 23,
   "id": "4983159d",
   "metadata": {},
   "outputs": [],
   "source": [
    "class MyQueue:\n",
    "    def __init__(self, capacity):\n",
    "        self.__capacity = capacity\n",
    "        self.__data = []\n",
    "    \n",
    "    def enqueue(self, value):\n",
    "        assert len(self.__data) <= self.__capacity, \"Maximum capacity\"\n",
    "        self.__data.append(value)\n",
    "    \n",
    "    def dequeue(self):\n",
    "        assert len(self.__data) > 0, \"No item to pop\"\n",
    "        item = self.__data.pop(0)\n",
    "        return item\n",
    "\n",
    "    def __call__(self):\n",
    "        print(self.__data)"
   ]
  },
  {
   "cell_type": "code",
   "execution_count": 27,
   "id": "efd818e9",
   "metadata": {},
   "outputs": [
    {
     "name": "stdout",
     "output_type": "stream",
     "text": [
      "[6, 7]\n",
      "None\n"
     ]
    }
   ],
   "source": [
    "queue = MyQueue(3)\n",
    "queue.enqueue(5)\n",
    "queue.enqueue(6)\n",
    "queue.enqueue(7)\n",
    "queue.dequeue()\n",
    "print(queue())"
   ]
  },
  {
   "cell_type": "markdown",
   "id": "33ccb899",
   "metadata": {},
   "source": [
    "### Breadth first search (BFS)"
   ]
  },
  {
   "cell_type": "code",
   "execution_count": 32,
   "id": "0c639541",
   "metadata": {},
   "outputs": [
    {
     "name": "stdout",
     "output_type": "stream",
     "text": [
      "BFS\n",
      "Visited 1\n",
      "Visited 2\n",
      "Visited 3\n",
      "Visited 4\n",
      "Visited 5\n",
      "Visited 6\n",
      "Visited 7\n"
     ]
    }
   ],
   "source": [
    "from collections import deque\n",
    "\n",
    "class TreeNode:\n",
    "    def __init__(self, key):\n",
    "        self.left = None\n",
    "        self.right = None\n",
    "        self.val = key\n",
    "    \n",
    "def bfs(root):\n",
    "    if root is None:\n",
    "        return []\n",
    "\n",
    "    result = []\n",
    "    queue = deque([root])\n",
    "\n",
    "    while queue:\n",
    "        node = queue.popleft()\n",
    "        result.append(node.val)\n",
    "\n",
    "        if node.left:\n",
    "            queue.append(node.left)\n",
    "        if node.right:\n",
    "            queue.append(node.right)\n",
    "\n",
    "    return result\n",
    "\n",
    "root = TreeNode(1)\n",
    "root.left = TreeNode(2)\n",
    "root.right = TreeNode(3)\n",
    "root.left.left = TreeNode(4)\n",
    "root.left.right = TreeNode(5)\n",
    "root.right.left = TreeNode(6)\n",
    "root.right.right = TreeNode(7)\n",
    "\n",
    "bfs_result = bfs(root)\n",
    "\n",
    "print('BFS')\n",
    "for res in bfs_result:\n",
    "    print(f\"Visited {res}\")"
   ]
  },
  {
   "cell_type": "markdown",
   "id": "e8897232",
   "metadata": {},
   "source": [
    "## 3. Binary tree"
   ]
  },
  {
   "cell_type": "markdown",
   "id": "afccff73",
   "metadata": {},
   "source": [
    "### Binary tree operations"
   ]
  },
  {
   "cell_type": "code",
   "execution_count": 8,
   "id": "c61b4d64",
   "metadata": {},
   "outputs": [],
   "source": [
    "from graphviz import Graph\n",
    "\n",
    "class TreeNode:\n",
    "    def __init__(self, key):\n",
    "        self.left = None\n",
    "        self.right = None\n",
    "        self.val = key\n",
    "\n",
    "def add_edges(dot, node):\n",
    "    if node is None:\n",
    "        return\n",
    "    \n",
    "    if node.left:\n",
    "        dot.edge(str(node.val), str(node.left.val))\n",
    "        add_edges(dot, node.left)\n",
    "    \n",
    "    if node.right:\n",
    "        dot.edge(str(node.val), str(node.right.val))\n",
    "        add_edges(dot, node.right)    \n",
    "\n",
    "def draw_tree(root):\n",
    "    dot = Graph()\n",
    "    dot.node(str(root.val))\n",
    "    add_edges(dot, root)\n",
    "    return dot    \n",
    "\n",
    "def insert_node(root, key):\n",
    "    new_node = TreeNode(key)\n",
    "\n",
    "    if root is None:\n",
    "        return new_node\n",
    "\n",
    "    queue = []\n",
    "    queue.append(root)\n",
    "\n",
    "    while queue:\n",
    "        temp = queue.pop(0)\n",
    "\n",
    "        if temp.left is None:\n",
    "            temp.left = new_node\n",
    "            return root\n",
    "        else:\n",
    "            queue.append(temp.left)\n",
    "\n",
    "        if temp.right is None:\n",
    "            temp.right = new_node\n",
    "            return root\n",
    "        else:\n",
    "            queue.append(temp.right)\n",
    "\n",
    "    return root"
   ]
  },
  {
   "cell_type": "code",
   "execution_count": 12,
   "id": "c905b379",
   "metadata": {},
   "outputs": [
    {
     "data": {
      "text/plain": [
       "'after_tree.png'"
      ]
     },
     "execution_count": 12,
     "metadata": {},
     "output_type": "execute_result"
    }
   ],
   "source": [
    "root = TreeNode(1)\n",
    "root.left = TreeNode(2)\n",
    "root.right = TreeNode(3)\n",
    "root.left.left = TreeNode(4)\n",
    "root.left.right = TreeNode(5)\n",
    "root.right.left = TreeNode(6)\n",
    "root.right.right = TreeNode(7)\n",
    "\n",
    "dot = draw_tree(root)\n",
    "dot.render('original_tree', format='png', view=True)\n",
    "\n",
    "key = 6\n",
    "root = insert_node(root, key)\n",
    "\n",
    "dot = draw_tree(root)\n",
    "dot.render('after_tree', format='png', view=True)"
   ]
  },
  {
   "cell_type": "code",
   "execution_count": null,
   "id": "27d9c6e1",
   "metadata": {},
   "outputs": [],
   "source": []
  }
 ],
 "metadata": {
  "kernelspec": {
   "display_name": "base",
   "language": "python",
   "name": "python3"
  },
  "language_info": {
   "codemirror_mode": {
    "name": "ipython",
    "version": 3
   },
   "file_extension": ".py",
   "mimetype": "text/x-python",
   "name": "python",
   "nbconvert_exporter": "python",
   "pygments_lexer": "ipython3",
   "version": "3.12.7"
  }
 },
 "nbformat": 4,
 "nbformat_minor": 5
}
